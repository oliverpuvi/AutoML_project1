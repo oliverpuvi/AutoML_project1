{
 "cells": [
  {
   "cell_type": "code",
   "execution_count": 1,
   "id": "b250020b",
   "metadata": {},
   "outputs": [],
   "source": [
    "#!pip install hyperopt"
   ]
  },
  {
   "cell_type": "code",
   "execution_count": 2,
   "id": "99efd25f",
   "metadata": {},
   "outputs": [],
   "source": [
    "import pandas as pd\n",
    "from sklearn.preprocessing import MinMaxScaler\n",
    "from sklearn.model_selection import train_test_split, cross_val_score\n",
    "from sklearn.metrics import mean_squared_error\n",
    "from sklearn.linear_model import LinearRegression\n",
    "from sklearn.tree import DecisionTreeRegressor\n",
    "from sklearn.ensemble import RandomForestRegressor\n",
    "from sklearn.svm import SVR\n",
    "from sklearn.ensemble import RandomForestRegressor\n",
    "from sklearn.model_selection import cross_val_score\n",
    "from hyperopt import hp, fmin, tpe, Trials, STATUS_OK\n",
    "import warnings\n",
    "warnings.filterwarnings('ignore')"
   ]
  },
  {
   "cell_type": "markdown",
   "id": "297c1a4c",
   "metadata": {},
   "source": [
    "## Reading in the data, preprocessing"
   ]
  },
  {
   "cell_type": "code",
   "execution_count": 3,
   "id": "9b0ad022",
   "metadata": {
    "scrolled": true
   },
   "outputs": [
    {
     "data": {
      "text/html": [
       "<div>\n",
       "<style scoped>\n",
       "    .dataframe tbody tr th:only-of-type {\n",
       "        vertical-align: middle;\n",
       "    }\n",
       "\n",
       "    .dataframe tbody tr th {\n",
       "        vertical-align: top;\n",
       "    }\n",
       "\n",
       "    .dataframe thead th {\n",
       "        text-align: right;\n",
       "    }\n",
       "</style>\n",
       "<table border=\"1\" class=\"dataframe\">\n",
       "  <thead>\n",
       "    <tr style=\"text-align: right;\">\n",
       "      <th></th>\n",
       "      <th>satisfaction_level</th>\n",
       "      <th>last_evaluation</th>\n",
       "      <th>number_project</th>\n",
       "      <th>average_montly_hours</th>\n",
       "      <th>time_spend_company</th>\n",
       "      <th>Work_accident</th>\n",
       "      <th>promotion_last_5years</th>\n",
       "      <th>dept</th>\n",
       "      <th>salary</th>\n",
       "    </tr>\n",
       "    <tr>\n",
       "      <th>Emp ID</th>\n",
       "      <th></th>\n",
       "      <th></th>\n",
       "      <th></th>\n",
       "      <th></th>\n",
       "      <th></th>\n",
       "      <th></th>\n",
       "      <th></th>\n",
       "      <th></th>\n",
       "      <th></th>\n",
       "    </tr>\n",
       "  </thead>\n",
       "  <tbody>\n",
       "    <tr>\n",
       "      <th>1.0</th>\n",
       "      <td>0.38</td>\n",
       "      <td>0.53</td>\n",
       "      <td>2.0</td>\n",
       "      <td>157.0</td>\n",
       "      <td>3.0</td>\n",
       "      <td>0.0</td>\n",
       "      <td>0.0</td>\n",
       "      <td>sales</td>\n",
       "      <td>low</td>\n",
       "    </tr>\n",
       "    <tr>\n",
       "      <th>2.0</th>\n",
       "      <td>0.80</td>\n",
       "      <td>0.86</td>\n",
       "      <td>5.0</td>\n",
       "      <td>262.0</td>\n",
       "      <td>6.0</td>\n",
       "      <td>0.0</td>\n",
       "      <td>0.0</td>\n",
       "      <td>sales</td>\n",
       "      <td>medium</td>\n",
       "    </tr>\n",
       "    <tr>\n",
       "      <th>3.0</th>\n",
       "      <td>0.11</td>\n",
       "      <td>0.88</td>\n",
       "      <td>7.0</td>\n",
       "      <td>272.0</td>\n",
       "      <td>4.0</td>\n",
       "      <td>0.0</td>\n",
       "      <td>0.0</td>\n",
       "      <td>sales</td>\n",
       "      <td>medium</td>\n",
       "    </tr>\n",
       "    <tr>\n",
       "      <th>4.0</th>\n",
       "      <td>0.72</td>\n",
       "      <td>0.87</td>\n",
       "      <td>5.0</td>\n",
       "      <td>223.0</td>\n",
       "      <td>5.0</td>\n",
       "      <td>0.0</td>\n",
       "      <td>0.0</td>\n",
       "      <td>sales</td>\n",
       "      <td>low</td>\n",
       "    </tr>\n",
       "    <tr>\n",
       "      <th>5.0</th>\n",
       "      <td>0.37</td>\n",
       "      <td>0.52</td>\n",
       "      <td>2.0</td>\n",
       "      <td>159.0</td>\n",
       "      <td>3.0</td>\n",
       "      <td>0.0</td>\n",
       "      <td>0.0</td>\n",
       "      <td>sales</td>\n",
       "      <td>low</td>\n",
       "    </tr>\n",
       "  </tbody>\n",
       "</table>\n",
       "</div>"
      ],
      "text/plain": [
       "        satisfaction_level  last_evaluation  number_project  \\\n",
       "Emp ID                                                        \n",
       "1.0                   0.38             0.53             2.0   \n",
       "2.0                   0.80             0.86             5.0   \n",
       "3.0                   0.11             0.88             7.0   \n",
       "4.0                   0.72             0.87             5.0   \n",
       "5.0                   0.37             0.52             2.0   \n",
       "\n",
       "        average_montly_hours  time_spend_company  Work_accident  \\\n",
       "Emp ID                                                            \n",
       "1.0                    157.0                 3.0            0.0   \n",
       "2.0                    262.0                 6.0            0.0   \n",
       "3.0                    272.0                 4.0            0.0   \n",
       "4.0                    223.0                 5.0            0.0   \n",
       "5.0                    159.0                 3.0            0.0   \n",
       "\n",
       "        promotion_last_5years   dept  salary  \n",
       "Emp ID                                        \n",
       "1.0                       0.0  sales     low  \n",
       "2.0                       0.0  sales  medium  \n",
       "3.0                       0.0  sales  medium  \n",
       "4.0                       0.0  sales     low  \n",
       "5.0                       0.0  sales     low  "
      ]
     },
     "execution_count": 3,
     "metadata": {},
     "output_type": "execute_result"
    }
   ],
   "source": [
    "df= pd.read_csv('archive/Employee Attrition.csv', index_col=0)\n",
    "df = df.dropna(thresh=4)\n",
    "df.head()"
   ]
  },
  {
   "cell_type": "code",
   "execution_count": 4,
   "id": "46423cd2",
   "metadata": {
    "scrolled": false
   },
   "outputs": [
    {
     "data": {
      "text/plain": [
       "satisfaction_level       float64\n",
       "last_evaluation          float64\n",
       "number_project           float64\n",
       "average_montly_hours     float64\n",
       "time_spend_company       float64\n",
       "Work_accident            float64\n",
       "promotion_last_5years    float64\n",
       "dept_IT                  float64\n",
       "dept_RandD               float64\n",
       "dept_accounting          float64\n",
       "dept_hr                  float64\n",
       "dept_management          float64\n",
       "dept_marketing           float64\n",
       "dept_product_mng         float64\n",
       "dept_sales               float64\n",
       "dept_support             float64\n",
       "dept_technical           float64\n",
       "salary_high              float64\n",
       "salary_low               float64\n",
       "salary_medium            float64\n",
       "dtype: object"
      ]
     },
     "execution_count": 4,
     "metadata": {},
     "output_type": "execute_result"
    }
   ],
   "source": [
    "encoded_df = pd.get_dummies(df, columns=['dept', 'salary'])\n",
    "\n",
    "encoded_df = encoded_df.astype('float64')\n",
    "\n",
    "scaler = MinMaxScaler()\n",
    "\n",
    "scaled_data = scaler.fit_transform(encoded_df)\n",
    "\n",
    "encoded_df = pd.DataFrame(scaled_data, columns=encoded_df.columns)\n",
    "\n",
    "encoded_df.dtypes"
   ]
  },
  {
   "cell_type": "markdown",
   "id": "d3f16e25",
   "metadata": {},
   "source": [
    "## Baseline"
   ]
  },
  {
   "cell_type": "code",
   "execution_count": 5,
   "id": "7fdfc56c",
   "metadata": {},
   "outputs": [
    {
     "name": "stdout",
     "output_type": "stream",
     "text": [
      "Linear Regression: MSE = 0.06929717137997814\n",
      "Decision Tree: MSE = 0.06656922993063101\n",
      "Random Forest: MSE = 0.03737279179514238\n",
      "Support Vector Regressor: MSE = 0.05027313125030984\n",
      "\n",
      "Baseline Model: Random Forest with MSE = 0.03737279179514238\n"
     ]
    }
   ],
   "source": [
    "\n",
    "\n",
    "X = encoded_df.drop('satisfaction_level', axis=1)\n",
    "y = encoded_df['satisfaction_level']\n",
    "\n",
    "X_train, X_test, y_train, y_test = train_test_split(X, y, test_size=0.2, random_state=42)\n",
    "\n",
    "models = {\n",
    "    \"Linear Regression\": LinearRegression(),\n",
    "    \"Decision Tree\": DecisionTreeRegressor(),\n",
    "    \"Random Forest\": RandomForestRegressor(),\n",
    "    \"Support Vector Regressor\": SVR()\n",
    "}\n",
    "\n",
    "results = {}\n",
    "\n",
    "for name, model in models.items():\n",
    "    model.fit(X_train, y_train)\n",
    "    y_pred = model.predict(X_test)\n",
    "    mse = mean_squared_error(y_test, y_pred)\n",
    "    results[name] = mse\n",
    "\n",
    "for name, mse in results.items():\n",
    "    print(f\"{name}: MSE = {mse}\")\n",
    "\n",
    "baseline_model_name = min(results, key=results.get)\n",
    "baseline_mse = results[baseline_model_name]\n",
    "\n",
    "print(f\"\\nBaseline Model: {baseline_model_name} with MSE = {baseline_mse}\")\n"
   ]
  },
  {
   "cell_type": "markdown",
   "id": "4ce25240",
   "metadata": {},
   "source": [
    "## Trial"
   ]
  },
  {
   "cell_type": "code",
   "execution_count": 6,
   "id": "0e9b11ee",
   "metadata": {},
   "outputs": [
    {
     "name": "stdout",
     "output_type": "stream",
     "text": [
      "100%|██████| 100/100 [02:44<00:00,  1.64s/trial, best loss: 0.03846289528928744]\n",
      "Best Hyperparameters: {'n_estimators': 50, 'max_depth': None, 'min_samples_split': 15, 'min_samples_leaf': 7, 'max_features': 'auto', 'bootstrap': True, 'max_leaf_nodes': None}\n",
      "Final Cross-Validated MSE: 0.03847167233587463\n"
     ]
    }
   ],
   "source": [
    "X = encoded_df.drop('satisfaction_level', axis=1)  # Features\n",
    "y = encoded_df['satisfaction_level']               # Target\n",
    "\n",
    "space = {\n",
    "    'n_estimators': hp.choice('n_estimators', [5, 10, 25, 50, 100, 200, 250, 300, 350, 400]),\n",
    "    'max_depth': hp.choice('max_depth', [3, 5, 10, 20, 25, 30, 40, None]),\n",
    "    'min_samples_split': hp.choice('min_samples_split', [1, 2, 5, 7, 10, 15, 20, 30]),\n",
    "    'min_samples_leaf': hp.choice('min_samples_leaf', [1, 2, 5, 7, 10, 15, 20, 30]),\n",
    "    'max_features': hp.choice('max_features', ['auto', 'sqrt']),\n",
    "    'bootstrap': hp.choice('bootstrap', [True, False]),\n",
    "    'max_leaf_nodes': hp.choice('max_leaf_nodes', [None, 3, 5, 10, 20, 30, 50, 100])\n",
    "}\n",
    "\n",
    "def objective(params):\n",
    "    model = RandomForestRegressor(**params)\n",
    "    score = -cross_val_score(model, X, y, cv=5, scoring='neg_mean_squared_error').mean()\n",
    "    return {'loss': score, 'status': STATUS_OK}\n",
    "\n",
    "trials = Trials()\n",
    "best_params = fmin(\n",
    "    fn=objective,\n",
    "    space=space,\n",
    "    algo=tpe.suggest,\n",
    "    max_evals=100,\n",
    "    trials=trials\n",
    ")\n",
    "\n",
    "best_params_converted = {\n",
    "    'n_estimators': [5, 10, 25, 50, 100, 200, 250, 300, 350, 400][best_params['n_estimators']],\n",
    "    'max_depth': [3, 5, 10, 20, 25, 30, 40, None][best_params['max_depth']],\n",
    "    'min_samples_split': [1, 2, 5, 7, 10, 15, 20, 30][best_params['min_samples_split']],\n",
    "    'min_samples_leaf': [1, 2, 5, 7, 10, 15, 20, 30][best_params['min_samples_leaf']],\n",
    "    'max_features': ['auto', 'sqrt'][best_params['max_features']],\n",
    "    'bootstrap': [True, False][best_params['bootstrap']],\n",
    "    'max_leaf_nodes': [None, 3, 5, 10, 20, 30, 50, 100][best_params['max_leaf_nodes']]\n",
    "}\n",
    "\n",
    "best_model = RandomForestRegressor(**best_params_converted)\n",
    "best_model.fit(X, y)\n",
    "\n",
    "final_scores = cross_val_score(best_model, X, y, cv=5, scoring='neg_mean_squared_error')\n",
    "final_mse = -final_scores.mean()\n",
    "\n",
    "print(f\"Best Hyperparameters: {best_params_converted}\")\n",
    "print(f\"Final Cross-Validated MSE: {final_mse}\")\n"
   ]
  }
 ],
 "metadata": {
  "kernelspec": {
   "display_name": "Python 3 (ipykernel)",
   "language": "python",
   "name": "python3"
  },
  "language_info": {
   "codemirror_mode": {
    "name": "ipython",
    "version": 3
   },
   "file_extension": ".py",
   "mimetype": "text/x-python",
   "name": "python",
   "nbconvert_exporter": "python",
   "pygments_lexer": "ipython3",
   "version": "3.8.16"
  }
 },
 "nbformat": 4,
 "nbformat_minor": 5
}
