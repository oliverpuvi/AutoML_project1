{
 "cells": [
  {
   "cell_type": "code",
   "execution_count": 1,
   "id": "b250020b",
   "metadata": {},
   "outputs": [],
   "source": [
    "#pip install hyperopt"
   ]
  },
  {
   "cell_type": "code",
   "execution_count": 2,
   "id": "99efd25f",
   "metadata": {},
   "outputs": [],
   "source": [
    "import pandas as pd\n",
    "import seaborn as sns\n",
    "import matplotlib.pyplot as plt\n",
    "from sklearn.preprocessing import MinMaxScaler\n",
    "from sklearn.model_selection import train_test_split, cross_val_score\n",
    "from sklearn.metrics import mean_squared_error\n",
    "from sklearn.linear_model import LinearRegression\n",
    "from sklearn.tree import DecisionTreeRegressor\n",
    "from sklearn.ensemble import RandomForestRegressor\n",
    "from sklearn.svm import SVR\n",
    "from sklearn.ensemble import RandomForestRegressor\n",
    "from sklearn.model_selection import cross_val_score\n",
    "from hyperopt import hp, fmin, tpe, Trials, STATUS_OK\n",
    "from scipy.stats import ttest_rel\n",
    "from scipy.stats import wilcoxon\n",
    "from scipy.stats import f_oneway\n",
    "from statsmodels.stats.multicomp import pairwise_tukeyhsd\n",
    "import numpy as np\n",
    "import warnings\n",
    "warnings.filterwarnings('ignore')"
   ]
  },
  {
   "cell_type": "markdown",
   "id": "297c1a4c",
   "metadata": {},
   "source": [
    "## Reading in the data, preprocessing"
   ]
  },
  {
   "cell_type": "code",
   "execution_count": 3,
   "id": "9b0ad022",
   "metadata": {
    "scrolled": true
   },
   "outputs": [
    {
     "data": {
      "text/html": [
       "<div>\n",
       "<style scoped>\n",
       "    .dataframe tbody tr th:only-of-type {\n",
       "        vertical-align: middle;\n",
       "    }\n",
       "\n",
       "    .dataframe tbody tr th {\n",
       "        vertical-align: top;\n",
       "    }\n",
       "\n",
       "    .dataframe thead th {\n",
       "        text-align: right;\n",
       "    }\n",
       "</style>\n",
       "<table border=\"1\" class=\"dataframe\">\n",
       "  <thead>\n",
       "    <tr style=\"text-align: right;\">\n",
       "      <th></th>\n",
       "      <th>satisfaction_level</th>\n",
       "      <th>last_evaluation</th>\n",
       "      <th>number_project</th>\n",
       "      <th>average_montly_hours</th>\n",
       "      <th>time_spend_company</th>\n",
       "      <th>Work_accident</th>\n",
       "      <th>promotion_last_5years</th>\n",
       "      <th>dept</th>\n",
       "      <th>salary</th>\n",
       "    </tr>\n",
       "    <tr>\n",
       "      <th>Emp ID</th>\n",
       "      <th></th>\n",
       "      <th></th>\n",
       "      <th></th>\n",
       "      <th></th>\n",
       "      <th></th>\n",
       "      <th></th>\n",
       "      <th></th>\n",
       "      <th></th>\n",
       "      <th></th>\n",
       "    </tr>\n",
       "  </thead>\n",
       "  <tbody>\n",
       "    <tr>\n",
       "      <th>1.0</th>\n",
       "      <td>0.38</td>\n",
       "      <td>0.53</td>\n",
       "      <td>2.0</td>\n",
       "      <td>157.0</td>\n",
       "      <td>3.0</td>\n",
       "      <td>0.0</td>\n",
       "      <td>0.0</td>\n",
       "      <td>sales</td>\n",
       "      <td>low</td>\n",
       "    </tr>\n",
       "    <tr>\n",
       "      <th>2.0</th>\n",
       "      <td>0.80</td>\n",
       "      <td>0.86</td>\n",
       "      <td>5.0</td>\n",
       "      <td>262.0</td>\n",
       "      <td>6.0</td>\n",
       "      <td>0.0</td>\n",
       "      <td>0.0</td>\n",
       "      <td>sales</td>\n",
       "      <td>medium</td>\n",
       "    </tr>\n",
       "    <tr>\n",
       "      <th>3.0</th>\n",
       "      <td>0.11</td>\n",
       "      <td>0.88</td>\n",
       "      <td>7.0</td>\n",
       "      <td>272.0</td>\n",
       "      <td>4.0</td>\n",
       "      <td>0.0</td>\n",
       "      <td>0.0</td>\n",
       "      <td>sales</td>\n",
       "      <td>medium</td>\n",
       "    </tr>\n",
       "    <tr>\n",
       "      <th>4.0</th>\n",
       "      <td>0.72</td>\n",
       "      <td>0.87</td>\n",
       "      <td>5.0</td>\n",
       "      <td>223.0</td>\n",
       "      <td>5.0</td>\n",
       "      <td>0.0</td>\n",
       "      <td>0.0</td>\n",
       "      <td>sales</td>\n",
       "      <td>low</td>\n",
       "    </tr>\n",
       "    <tr>\n",
       "      <th>5.0</th>\n",
       "      <td>0.37</td>\n",
       "      <td>0.52</td>\n",
       "      <td>2.0</td>\n",
       "      <td>159.0</td>\n",
       "      <td>3.0</td>\n",
       "      <td>0.0</td>\n",
       "      <td>0.0</td>\n",
       "      <td>sales</td>\n",
       "      <td>low</td>\n",
       "    </tr>\n",
       "  </tbody>\n",
       "</table>\n",
       "</div>"
      ],
      "text/plain": [
       "        satisfaction_level  last_evaluation  number_project  \\\n",
       "Emp ID                                                        \n",
       "1.0                   0.38             0.53             2.0   \n",
       "2.0                   0.80             0.86             5.0   \n",
       "3.0                   0.11             0.88             7.0   \n",
       "4.0                   0.72             0.87             5.0   \n",
       "5.0                   0.37             0.52             2.0   \n",
       "\n",
       "        average_montly_hours  time_spend_company  Work_accident  \\\n",
       "Emp ID                                                            \n",
       "1.0                    157.0                 3.0            0.0   \n",
       "2.0                    262.0                 6.0            0.0   \n",
       "3.0                    272.0                 4.0            0.0   \n",
       "4.0                    223.0                 5.0            0.0   \n",
       "5.0                    159.0                 3.0            0.0   \n",
       "\n",
       "        promotion_last_5years   dept  salary  \n",
       "Emp ID                                        \n",
       "1.0                       0.0  sales     low  \n",
       "2.0                       0.0  sales  medium  \n",
       "3.0                       0.0  sales  medium  \n",
       "4.0                       0.0  sales     low  \n",
       "5.0                       0.0  sales     low  "
      ]
     },
     "execution_count": 3,
     "metadata": {},
     "output_type": "execute_result"
    }
   ],
   "source": [
    "df= pd.read_csv('archive/Employee Attrition.csv', index_col=0)\n",
    "df = df.dropna(thresh=4)\n",
    "df.head()"
   ]
  },
  {
   "cell_type": "code",
   "execution_count": 4,
   "id": "c6aa5e36",
   "metadata": {},
   "outputs": [
    {
     "data": {
      "text/plain": [
       "<seaborn.axisgrid.FacetGrid at 0x2be0224b580>"
      ]
     },
     "execution_count": 4,
     "metadata": {},
     "output_type": "execute_result"
    },
    {
     "data": {
      "image/png": "[encoded data removed]",
      "text/plain": [
       "<Figure size 360x360 with 1 Axes>"
      ]
     },
     "metadata": {},
     "output_type": "display_data"
    }
   ],
   "source": [
    "sns.set_theme(style=\"darkgrid\", palette=\"dark\")\n",
    "sns.displot(df, x=\"satisfaction_level\", alpha=.4, kde=True).set(title='Distribution of satisfaction level')"
   ]
  },
  {
   "cell_type": "code",
   "execution_count": 5,
   "id": "bf137729",
   "metadata": {},
   "outputs": [
    {
     "data": {
      "text/plain": [
       "<seaborn.axisgrid.FacetGrid at 0x2be065e0790>"
      ]
     },
     "execution_count": 5,
     "metadata": {},
     "output_type": "execute_result"
    },
    {
     "data": {
      "image/png": "[encoded data removed]",
      "text/plain": [
       "<Figure size 360x360 with 1 Axes>"
      ]
     },
     "metadata": {},
     "output_type": "display_data"
    }
   ],
   "source": [
    "sns.displot(df, x=\"salary\", alpha=.4).set(title='Distribution of salary')"
   ]
  },
  {
   "cell_type": "code",
   "execution_count": 6,
   "id": "d39a5379",
   "metadata": {},
   "outputs": [
    {
     "data": {
      "text/plain": [
       "<seaborn.axisgrid.FacetGrid at 0x2be0663e970>"
      ]
     },
     "execution_count": 6,
     "metadata": {},
     "output_type": "execute_result"
    },
    {
     "data": {
      "image/png": "[encoded data removed]",
      "text/plain": [
       "<Figure size 734.4x432 with 1 Axes>"
      ]
     },
     "metadata": {},
     "output_type": "display_data"
    }
   ],
   "source": [
    "sns.displot(df, x=\"dept\", alpha=.4, height=6, aspect=1.7).set(title='Distribution of departments')"
   ]
  },
  {
   "cell_type": "code",
   "execution_count": 7,
   "id": "46423cd2",
   "metadata": {
    "scrolled": false
   },
   "outputs": [
    {
     "data": {
      "text/plain": [
       "satisfaction_level       float64\n",
       "last_evaluation          float64\n",
       "number_project           float64\n",
       "average_montly_hours     float64\n",
       "time_spend_company       float64\n",
       "Work_accident            float64\n",
       "promotion_last_5years    float64\n",
       "dept_IT                  float64\n",
       "dept_RandD               float64\n",
       "dept_accounting          float64\n",
       "dept_hr                  float64\n",
       "dept_management          float64\n",
       "dept_marketing           float64\n",
       "dept_product_mng         float64\n",
       "dept_sales               float64\n",
       "dept_support             float64\n",
       "dept_technical           float64\n",
       "salary_high              float64\n",
       "salary_low               float64\n",
       "salary_medium            float64\n",
       "dtype: object"
      ]
     },
     "execution_count": 7,
     "metadata": {},
     "output_type": "execute_result"
    }
   ],
   "source": [
    "encoded_df = pd.get_dummies(df, columns=['dept', 'salary'])\n",
    "\n",
    "encoded_df = encoded_df.astype('float64')\n",
    "\n",
    "scaler = MinMaxScaler()\n",
    "\n",
    "scaled_data = scaler.fit_transform(encoded_df)\n",
    "\n",
    "encoded_df = pd.DataFrame(scaled_data, columns=encoded_df.columns)\n",
    "\n",
    "encoded_df.dtypes"
   ]
  },
  {
   "cell_type": "markdown",
   "id": "d3f16e25",
   "metadata": {},
   "source": [
    "## Baseline"
   ]
  },
  {
   "cell_type": "code",
   "execution_count": 9,
   "id": "7fdfc56c",
   "metadata": {},
   "outputs": [
    {
     "name": "stdout",
     "output_type": "stream",
     "text": [
      "Linear Regression: MSE = 0.06933325702840902\n",
      "Decision Tree: MSE = 0.06557215832092204\n",
      "Random Forest: MSE = 0.03736319652685439\n",
      "Support Vector Regressor: MSE = 0.05027313125030986\n",
      "\n",
      "Baseline Model: Random Forest with MSE = 0.03736319652685439\n"
     ]
    }
   ],
   "source": [
    "X = encoded_df.drop('satisfaction_level', axis=1)\n",
    "y = encoded_df['satisfaction_level']\n",
    "\n",
    "X_train, X_test, y_train, y_test = train_test_split(X, y, test_size=0.2, random_state=42)\n",
    "\n",
    "models = {\n",
    "    \"Linear Regression\": LinearRegression(),\n",
    "    \"Decision Tree\": DecisionTreeRegressor(),\n",
    "    \"Random Forest\": RandomForestRegressor(),\n",
    "    \"Support Vector Regressor\": SVR()\n",
    "}\n",
    "\n",
    "results = {}\n",
    "residuals={}\n",
    "\n",
    "for name, model in models.items():\n",
    "    model.fit(X_train, y_train)\n",
    "    y_pred = model.predict(X_test)\n",
    "    mse = mean_squared_error(y_test, y_pred)\n",
    "    results[name] = mse\n",
    "    #y_cv_pred = cross_val_predict(model, X, y, cv=5)\n",
    "    #residuals[name] = y - y_cv_pred\n",
    "    residuals[name] = y_test - y_pred\n",
    "\n",
    "for name, mse in results.items():\n",
    "    print(f\"{name}: MSE = {mse}\")\n",
    "\n",
    "baseline_model_name = min(results, key=results.get)\n",
    "baseline_mse = results[baseline_model_name]\n",
    "\n",
    "print(f\"\\nBaseline Model: {baseline_model_name} with MSE = {baseline_mse}\")\n"
   ]
  },
  {
   "cell_type": "markdown",
   "id": "c1257d9f",
   "metadata": {},
   "source": [
    "## Statistical tests"
   ]
  },
  {
   "cell_type": "markdown",
   "id": "85d70fff",
   "metadata": {},
   "source": [
    "### Paired t-test"
   ]
  },
  {
   "cell_type": "code",
   "execution_count": 10,
   "id": "9fe95541",
   "metadata": {},
   "outputs": [
    {
     "name": "stdout",
     "output_type": "stream",
     "text": [
      "Test between Linear Regression and Decision Tree:\n",
      "    T-statistic: 0.4132101837320959, p-value: 0.6794821695004579\n",
      "    No statistically significant difference. Algorithms perform similarly.\n",
      "\n",
      "Test between Linear Regression and Random Forest:\n",
      "    T-statistic: -0.27777062136683567, p-value: 0.7812075915210075\n",
      "    No statistically significant difference. Algorithms perform similarly.\n",
      "\n",
      "Test between Linear Regression and Support Vector Regressor:\n",
      "    T-statistic: 4.988526125752702, p-value: 6.430802595906725e-07\n",
      "    Statistically significant difference. Algorithms perform differently.\n",
      "\n",
      "Test between Decision Tree and Random Forest:\n",
      "    T-statistic: -0.9623455959512107, p-value: 0.3359536173330788\n",
      "    No statistically significant difference. Algorithms perform similarly.\n",
      "\n",
      "Test between Decision Tree and Support Vector Regressor:\n",
      "    T-statistic: 3.073179566453812, p-value: 0.0021369476762407645\n",
      "    Statistically significant difference. Algorithms perform differently.\n",
      "\n",
      "Test between Random Forest and Support Vector Regressor:\n",
      "    T-statistic: 6.730690567726636, p-value: 2.015165458981649e-11\n",
      "    Statistically significant difference. Algorithms perform differently.\n",
      "\n"
     ]
    }
   ],
   "source": [
    "# Perform paired t-test between each pair of models - \n",
    "#   Checking whether there are statistically significant differences in the residuals (prediction errors) between the models, \n",
    "#   considering the variability introduced by cross-validation\n",
    "#   Null hypothesis - the algorithms perform the same.\n",
    "for i in range(len(models)):\n",
    "    for j in range(i+1, len(models)):\n",
    "        t_statistic, p_value = ttest_rel(residuals[list(models.keys())[i]], residuals[list(models.keys())[j]])\n",
    "        print(f'Test between {list(models.keys())[i]} and {list(models.keys())[j]}:')\n",
    "        print(f'    T-statistic: {t_statistic}, p-value: {p_value}')\n",
    "        if p_value < 0.1:\n",
    "            print('    Statistically significant difference. Algorithms perform differently.\\n')\n",
    "        else:\n",
    "            print('    No statistically significant difference. Algorithms perform similarly.\\n')"
   ]
  },
  {
   "cell_type": "markdown",
   "id": "d8f859a9",
   "metadata": {},
   "source": [
    "### Wilcoxon signed-rank test"
   ]
  },
  {
   "cell_type": "code",
   "execution_count": 11,
   "id": "c6ab6dc6",
   "metadata": {},
   "outputs": [
    {
     "name": "stdout",
     "output_type": "stream",
     "text": [
      "Test between Linear Regression and Decision Tree:\n",
      "Wilcoxon statistic: 2177680.0, p-value: 0.12354429773437796\n",
      "    No statistically significant difference.\n",
      "\n",
      "Test between Linear Regression and Random Forest:\n",
      "Wilcoxon statistic: 2067916.0, p-value: 0.00011643374116373094\n",
      "    Statistically significant difference.\n",
      "\n",
      "Test between Linear Regression and Support Vector Regressor:\n",
      "Wilcoxon statistic: 1782113.0, p-value: 5.223859041759612e-23\n",
      "    Statistically significant difference.\n",
      "\n",
      "Test between Decision Tree and Random Forest:\n",
      "Wilcoxon statistic: 2162800.5, p-value: 0.06378569004025604\n",
      "    Statistically significant difference.\n",
      "\n",
      "Test between Decision Tree and Support Vector Regressor:\n",
      "Wilcoxon statistic: 2184095.0, p-value: 0.16006303820774903\n",
      "    No statistically significant difference.\n",
      "\n",
      "Test between Random Forest and Support Vector Regressor:\n",
      "Wilcoxon statistic: 2001509.0, p-value: 1.4952096800516338e-07\n",
      "    Statistically significant difference.\n",
      "\n"
     ]
    }
   ],
   "source": [
    "# Perform Wilcoxon signed-rank test between each pair of models based on residuals\n",
    "# This test doesn't assume a normal distribution of the data and is less sensitive to extreme values, \n",
    "# which can be advantageous in some situations.\n",
    "for i in range(len(models)):\n",
    "    for j in range(i+1, len(models)):\n",
    "        statistic, p_value = wilcoxon(residuals[list(models.keys())[i]], residuals[list(models.keys())[j]])\n",
    "        print(f'Test between {list(models.keys())[i]} and {list(models.keys())[j]}:')\n",
    "        print(f'Wilcoxon statistic: {statistic}, p-value: {p_value}')\n",
    "        if p_value < 0.1:\n",
    "            print('    Statistically significant difference.\\n')\n",
    "        else:\n",
    "            print('    No statistically significant difference.\\n')"
   ]
  },
  {
   "cell_type": "markdown",
   "id": "38180bf2",
   "metadata": {},
   "source": [
    "## Analysis of Variance (ANOVA)"
   ]
  },
  {
   "cell_type": "code",
   "execution_count": 12,
   "id": "8bdbe9c0",
   "metadata": {},
   "outputs": [
    {
     "name": "stdout",
     "output_type": "stream",
     "text": [
      "ANOVA statistic: 2.8511135822576126, p-value: 0.035902123907397415\n",
      "At least one pair of models has a statistically significant difference.\n"
     ]
    }
   ],
   "source": [
    "# Create a list of residuals for each model\n",
    "residuals_list = [residuals[model_name] for model_name in models]\n",
    "\n",
    "# Perform ANOVA on the residuals\n",
    "statistic, p_value = f_oneway(*residuals_list)\n",
    "\n",
    "print(f'ANOVA statistic: {statistic}, p-value: {p_value}')\n",
    "\n",
    "if p_value < 0.1:\n",
    "    print('At least one pair of models has a statistically significant difference.')\n",
    "else:\n",
    "    print('No statistically significant difference between models.')"
   ]
  },
  {
   "cell_type": "markdown",
   "id": "d848b63b",
   "metadata": {},
   "source": [
    "#### Post hoc test - Tukey's HSD test"
   ]
  },
  {
   "cell_type": "code",
   "execution_count": 13,
   "id": "8f286d9d",
   "metadata": {},
   "outputs": [
    {
     "name": "stdout",
     "output_type": "stream",
     "text": [
      "               Multiple Comparison of Means - Tukey HSD, FWER=0.10               \n",
      "=================================================================================\n",
      "      group1               group2          meandiff p-adj   lower   upper  reject\n",
      "---------------------------------------------------------------------------------\n",
      "    Decision Tree        Linear Regression    0.002    0.9 -0.0119   0.016  False\n",
      "    Decision Tree            Random Forest    0.003    0.9  -0.011  0.0169  False\n",
      "    Decision Tree Support Vector Regressor  -0.0127 0.1598 -0.0266  0.0013  False\n",
      "Linear Regression            Random Forest    0.001    0.9  -0.013  0.0149  False\n",
      "Linear Regression Support Vector Regressor  -0.0147 0.0754 -0.0286 -0.0007   True\n",
      "    Random Forest Support Vector Regressor  -0.0156   0.05 -0.0296 -0.0017   True\n",
      "---------------------------------------------------------------------------------\n"
     ]
    }
   ],
   "source": [
    "# Flatten residuals and create corresponding model labels\n",
    "all_residuals = [residual for residuals in residuals_list for residual in residuals]\n",
    "model_labels = [model_name for model_name in models for _ in range(len(residuals_list[0]))]\n",
    "\n",
    "# Perform Tukey's HSD test\n",
    "tukey_results = pairwise_tukeyhsd(np.concatenate(residuals_list), model_labels, alpha=0.1)\n",
    "\n",
    "print(tukey_results)"
   ]
  },
  {
   "cell_type": "markdown",
   "id": "4ce25240",
   "metadata": {},
   "source": [
    "## Trial"
   ]
  },
  {
   "cell_type": "code",
   "execution_count": 14,
   "id": "0e9b11ee",
   "metadata": {},
   "outputs": [
    {
     "name": "stdout",
     "output_type": "stream",
     "text": [
      "100%|█████████████████████████████████████████████| 100/100 [03:22<00:00,  2.03s/trial, best loss: 0.03916862644457951]\n",
      "Best Hyperparameters: {'n_estimators': 350, 'max_depth': None, 'min_samples_split': 5, 'min_samples_leaf': 5, 'max_features': 'sqrt', 'bootstrap': True, 'max_leaf_nodes': None}\n",
      "Final Cross-Validated MSE: 0.03916234627034196\n"
     ]
    }
   ],
   "source": [
    "X = encoded_df.drop('satisfaction_level', axis=1)  # Features\n",
    "y = encoded_df['satisfaction_level']               # Target\n",
    "\n",
    "space = {\n",
    "    'n_estimators': hp.choice('n_estimators', [5, 10, 25, 50, 100, 200, 250, 300, 350, 400]),\n",
    "    'max_depth': hp.choice('max_depth', [3, 5, 10, 20, 25, 30, 40, None]),\n",
    "    'min_samples_split': hp.choice('min_samples_split', [1, 2, 5, 7, 10, 15, 20, 30]),\n",
    "    'min_samples_leaf': hp.choice('min_samples_leaf', [1, 2, 5, 7, 10, 15, 20, 30]),\n",
    "    'max_features': hp.choice('max_features', ['auto', 'sqrt']),\n",
    "    'bootstrap': hp.choice('bootstrap', [True, False]),\n",
    "    'max_leaf_nodes': hp.choice('max_leaf_nodes', [None, 3, 5, 10, 20, 30, 50, 100])\n",
    "}\n",
    "\n",
    "def objective(params):\n",
    "    model = RandomForestRegressor(**params)\n",
    "    score = -cross_val_score(model, X, y, cv=5, scoring='neg_mean_squared_error').mean()\n",
    "    return {'loss': score, 'status': STATUS_OK}\n",
    "\n",
    "trials = Trials()\n",
    "best_params = fmin(\n",
    "    fn=objective,\n",
    "    space=space,\n",
    "    algo=tpe.suggest,\n",
    "    max_evals=100,\n",
    "    trials=trials\n",
    ")\n",
    "\n",
    "best_params_converted = {\n",
    "    'n_estimators': [5, 10, 25, 50, 100, 200, 250, 300, 350, 400][best_params['n_estimators']],\n",
    "    'max_depth': [3, 5, 10, 20, 25, 30, 40, None][best_params['max_depth']],\n",
    "    'min_samples_split': [1, 2, 5, 7, 10, 15, 20, 30][best_params['min_samples_split']],\n",
    "    'min_samples_leaf': [1, 2, 5, 7, 10, 15, 20, 30][best_params['min_samples_leaf']],\n",
    "    'max_features': ['auto', 'sqrt'][best_params['max_features']],\n",
    "    'bootstrap': [True, False][best_params['bootstrap']],\n",
    "    'max_leaf_nodes': [None, 3, 5, 10, 20, 30, 50, 100][best_params['max_leaf_nodes']]\n",
    "}\n",
    "\n",
    "best_model = RandomForestRegressor(**best_params_converted)\n",
    "best_model.fit(X, y)\n",
    "\n",
    "final_scores = cross_val_score(best_model, X, y, cv=5, scoring='neg_mean_squared_error')\n",
    "final_mse = -final_scores.mean()\n",
    "\n",
    "print(f\"Best Hyperparameters: {best_params_converted}\")\n",
    "print(f\"Final Cross-Validated MSE: {final_mse}\")\n"
   ]
  }
 ],
 "metadata": {
  "kernelspec": {
   "display_name": "Python 3",
   "language": "python",
   "name": "python3"
  },
  "language_info": {
   "codemirror_mode": {
    "name": "ipython",
    "version": 3
   },
   "file_extension": ".py",
   "mimetype": "text/x-python",
   "name": "python",
   "nbconvert_exporter": "python",
   "pygments_lexer": "ipython3",
   "version": "3.8.8"
  }
 },
 "nbformat": 4,
 "nbformat_minor": 5
}
