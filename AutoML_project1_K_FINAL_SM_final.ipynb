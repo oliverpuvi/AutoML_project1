{
 "cells": [
  {
   "cell_type": "markdown",
   "id": "xhP-ZsObAZVs",
   "metadata": {
    "id": "xhP-ZsObAZVs"
   },
   "source": [
    "# AutoML project 1\n",
    "\n"
   ]
  },
  {
   "cell_type": "markdown",
   "id": "grv9zhCBAepS",
   "metadata": {
    "id": "grv9zhCBAepS"
   },
   "source": [
    "Project team: Oliver Püvi, Li Merila, Karolin Rips, Susanna Metsla, Annika Talvet"
   ]
  },
  {
   "cell_type": "code",
   "execution_count": 1,
   "id": "b250020b",
   "metadata": {
    "id": "b250020b"
   },
   "outputs": [],
   "source": [
    "#!pip install hyperopt"
   ]
  },
  {
   "cell_type": "code",
   "execution_count": 2,
   "id": "99efd25f",
   "metadata": {
    "id": "99efd25f"
   },
   "outputs": [],
   "source": [
    "import pandas as pd\n",
    "import numpy as np\n",
    "from sklearn.preprocessing import LabelEncoder\n",
    "from sklearn.preprocessing import MinMaxScaler\n",
    "from sklearn.preprocessing import StandardScaler\n",
    "from sklearn.preprocessing import MaxAbsScaler\n",
    "from sklearn.model_selection import train_test_split, cross_val_score\n",
    "from sklearn.metrics import mean_squared_error\n",
    "from sklearn.linear_model import LinearRegression\n",
    "from sklearn.linear_model import Ridge\n",
    "from sklearn.linear_model import Lasso\n",
    "from sklearn.linear_model import ElasticNet\n",
    "from sklearn.linear_model import BayesianRidge\n",
    "from sklearn.tree import DecisionTreeRegressor\n",
    "from sklearn.ensemble import RandomForestRegressor\n",
    "from sklearn.ensemble import GradientBoostingRegressor\n",
    "from sklearn.ensemble import AdaBoostRegressor\n",
    "from sklearn.ensemble import ExtraTreesRegressor\n",
    "from sklearn.neighbors import KNeighborsRegressor\n",
    "from sklearn.svm import SVR\n",
    "from sklearn.gaussian_process import GaussianProcessRegressor\n",
    "from sklearn.model_selection import cross_val_score\n",
    "from hyperopt import hp, fmin, tpe, Trials, STATUS_OK, space_eval\n",
    "from sklearn.pipeline import Pipeline\n",
    "from sklearn.pipeline import make_pipeline\n",
    "import matplotlib.pyplot as plt\n",
    "from scipy.stats import ttest_rel\n",
    "import warnings\n",
    "warnings.filterwarnings('ignore')"
   ]
  },
  {
   "cell_type": "markdown",
   "id": "297c1a4c",
   "metadata": {
    "id": "297c1a4c"
   },
   "source": [
    "## Reading in the data, preprocessing"
   ]
  },
  {
   "cell_type": "code",
   "execution_count": 3,
   "id": "9b0ad022",
   "metadata": {
    "colab": {
     "base_uri": "https://localhost:8080/",
     "height": 423
    },
    "id": "9b0ad022",
    "outputId": "0ef7c7d0-215f-4752-8ad0-a70f3e7d33b2",
    "scrolled": true
   },
   "outputs": [
    {
     "data": {
      "text/html": [
       "<div>\n",
       "<style scoped>\n",
       "    .dataframe tbody tr th:only-of-type {\n",
       "        vertical-align: middle;\n",
       "    }\n",
       "\n",
       "    .dataframe tbody tr th {\n",
       "        vertical-align: top;\n",
       "    }\n",
       "\n",
       "    .dataframe thead th {\n",
       "        text-align: right;\n",
       "    }\n",
       "</style>\n",
       "<table border=\"1\" class=\"dataframe\">\n",
       "  <thead>\n",
       "    <tr style=\"text-align: right;\">\n",
       "      <th></th>\n",
       "      <th>age</th>\n",
       "      <th>sex</th>\n",
       "      <th>bmi</th>\n",
       "      <th>children</th>\n",
       "      <th>smoker</th>\n",
       "      <th>region</th>\n",
       "      <th>charges</th>\n",
       "    </tr>\n",
       "  </thead>\n",
       "  <tbody>\n",
       "    <tr>\n",
       "      <th>0</th>\n",
       "      <td>19</td>\n",
       "      <td>female</td>\n",
       "      <td>27.900</td>\n",
       "      <td>0</td>\n",
       "      <td>yes</td>\n",
       "      <td>southwest</td>\n",
       "      <td>16884.92400</td>\n",
       "    </tr>\n",
       "    <tr>\n",
       "      <th>1</th>\n",
       "      <td>18</td>\n",
       "      <td>male</td>\n",
       "      <td>33.770</td>\n",
       "      <td>1</td>\n",
       "      <td>no</td>\n",
       "      <td>southeast</td>\n",
       "      <td>1725.55230</td>\n",
       "    </tr>\n",
       "    <tr>\n",
       "      <th>2</th>\n",
       "      <td>28</td>\n",
       "      <td>male</td>\n",
       "      <td>33.000</td>\n",
       "      <td>3</td>\n",
       "      <td>no</td>\n",
       "      <td>southeast</td>\n",
       "      <td>4449.46200</td>\n",
       "    </tr>\n",
       "    <tr>\n",
       "      <th>3</th>\n",
       "      <td>33</td>\n",
       "      <td>male</td>\n",
       "      <td>22.705</td>\n",
       "      <td>0</td>\n",
       "      <td>no</td>\n",
       "      <td>northwest</td>\n",
       "      <td>21984.47061</td>\n",
       "    </tr>\n",
       "    <tr>\n",
       "      <th>4</th>\n",
       "      <td>32</td>\n",
       "      <td>male</td>\n",
       "      <td>28.880</td>\n",
       "      <td>0</td>\n",
       "      <td>no</td>\n",
       "      <td>northwest</td>\n",
       "      <td>3866.85520</td>\n",
       "    </tr>\n",
       "    <tr>\n",
       "      <th>...</th>\n",
       "      <td>...</td>\n",
       "      <td>...</td>\n",
       "      <td>...</td>\n",
       "      <td>...</td>\n",
       "      <td>...</td>\n",
       "      <td>...</td>\n",
       "      <td>...</td>\n",
       "    </tr>\n",
       "    <tr>\n",
       "      <th>1333</th>\n",
       "      <td>50</td>\n",
       "      <td>male</td>\n",
       "      <td>30.970</td>\n",
       "      <td>3</td>\n",
       "      <td>no</td>\n",
       "      <td>northwest</td>\n",
       "      <td>10600.54830</td>\n",
       "    </tr>\n",
       "    <tr>\n",
       "      <th>1334</th>\n",
       "      <td>18</td>\n",
       "      <td>female</td>\n",
       "      <td>31.920</td>\n",
       "      <td>0</td>\n",
       "      <td>no</td>\n",
       "      <td>northeast</td>\n",
       "      <td>2205.98080</td>\n",
       "    </tr>\n",
       "    <tr>\n",
       "      <th>1335</th>\n",
       "      <td>18</td>\n",
       "      <td>female</td>\n",
       "      <td>36.850</td>\n",
       "      <td>0</td>\n",
       "      <td>no</td>\n",
       "      <td>southeast</td>\n",
       "      <td>1629.83350</td>\n",
       "    </tr>\n",
       "    <tr>\n",
       "      <th>1336</th>\n",
       "      <td>21</td>\n",
       "      <td>female</td>\n",
       "      <td>25.800</td>\n",
       "      <td>0</td>\n",
       "      <td>no</td>\n",
       "      <td>southwest</td>\n",
       "      <td>2007.94500</td>\n",
       "    </tr>\n",
       "    <tr>\n",
       "      <th>1337</th>\n",
       "      <td>61</td>\n",
       "      <td>female</td>\n",
       "      <td>29.070</td>\n",
       "      <td>0</td>\n",
       "      <td>yes</td>\n",
       "      <td>northwest</td>\n",
       "      <td>29141.36030</td>\n",
       "    </tr>\n",
       "  </tbody>\n",
       "</table>\n",
       "<p>1338 rows × 7 columns</p>\n",
       "</div>"
      ],
      "text/plain": [
       "      age     sex     bmi  children smoker     region      charges\n",
       "0      19  female  27.900         0    yes  southwest  16884.92400\n",
       "1      18    male  33.770         1     no  southeast   1725.55230\n",
       "2      28    male  33.000         3     no  southeast   4449.46200\n",
       "3      33    male  22.705         0     no  northwest  21984.47061\n",
       "4      32    male  28.880         0     no  northwest   3866.85520\n",
       "...   ...     ...     ...       ...    ...        ...          ...\n",
       "1333   50    male  30.970         3     no  northwest  10600.54830\n",
       "1334   18  female  31.920         0     no  northeast   2205.98080\n",
       "1335   18  female  36.850         0     no  southeast   1629.83350\n",
       "1336   21  female  25.800         0     no  southwest   2007.94500\n",
       "1337   61  female  29.070         0    yes  northwest  29141.36030\n",
       "\n",
       "[1338 rows x 7 columns]"
      ]
     },
     "execution_count": 3,
     "metadata": {},
     "output_type": "execute_result"
    }
   ],
   "source": [
    "df = pd.read_csv('insurance.csv')\n",
    "df"
   ]
  },
  {
   "cell_type": "code",
   "execution_count": 4,
   "id": "BEKHfU66a7Y-",
   "metadata": {
    "colab": {
     "base_uri": "https://localhost:8080/"
    },
    "id": "BEKHfU66a7Y-",
    "outputId": "f55869d6-468e-4924-b418-81301e1663ca"
   },
   "outputs": [
    {
     "name": "stdout",
     "output_type": "stream",
     "text": [
      "<class 'pandas.core.frame.DataFrame'>\n",
      "RangeIndex: 1338 entries, 0 to 1337\n",
      "Data columns (total 7 columns):\n",
      " #   Column    Non-Null Count  Dtype  \n",
      "---  ------    --------------  -----  \n",
      " 0   age       1338 non-null   int64  \n",
      " 1   sex       1338 non-null   object \n",
      " 2   bmi       1338 non-null   float64\n",
      " 3   children  1338 non-null   int64  \n",
      " 4   smoker    1338 non-null   object \n",
      " 5   region    1338 non-null   object \n",
      " 6   charges   1338 non-null   float64\n",
      "dtypes: float64(2), int64(2), object(3)\n",
      "memory usage: 73.3+ KB\n"
     ]
    }
   ],
   "source": [
    "df.info()"
   ]
  },
  {
   "cell_type": "markdown",
   "id": "FWiP9rKxZLol",
   "metadata": {
    "id": "FWiP9rKxZLol"
   },
   "source": [
    "There are no missing values in our dataset, but we have to enocode nominal variables."
   ]
  },
  {
   "cell_type": "code",
   "execution_count": 5,
   "id": "46423cd2",
   "metadata": {
    "colab": {
     "base_uri": "https://localhost:8080/"
    },
    "id": "46423cd2",
    "outputId": "a873a4ec-315a-4a32-8f6c-905f7e83d5df",
    "scrolled": false
   },
   "outputs": [
    {
     "name": "stdout",
     "output_type": "stream",
     "text": [
      "age               float64\n",
      "bmi               float64\n",
      "children          float64\n",
      "charges           float64\n",
      "sex_encoded       float64\n",
      "smoker_encoded    float64\n",
      "region_encoded    float64\n",
      "dtype: object\n"
     ]
    }
   ],
   "source": [
    "# Initialize label encoders\n",
    "label_encoder_dept = LabelEncoder()\n",
    "label_encoder_salary = LabelEncoder()\n",
    "\n",
    "# Apply Label Encoding to 'sex' and 'smoker' and 'region' columns\n",
    "df['sex_encoded'] = label_encoder_dept.fit_transform(df['sex'])\n",
    "df['smoker_encoded'] = label_encoder_salary.fit_transform(df['smoker'])\n",
    "df['region_encoded'] = label_encoder_salary.fit_transform(df['region'])\n",
    "df['charges'] = (df['charges']-df['charges'].min()) /( df['charges'].max() -df['charges'].min())\n",
    "\n",
    "# Drop original  'sex' and 'smoker' and 'region' columns\n",
    "encoded_df = df.drop(['sex', 'smoker', 'region'], axis = 1)\n",
    "\n",
    "# Ensure the DataFrame is of type float64\n",
    "encoded_df = encoded_df.astype('float64')\n",
    "\n",
    "# Check data types\n",
    "print(encoded_df.dtypes)"
   ]
  },
  {
   "cell_type": "code",
   "execution_count": 6,
   "id": "c2ROwahuZ-L5",
   "metadata": {
    "colab": {
     "base_uri": "https://localhost:8080/",
     "height": 300
    },
    "id": "c2ROwahuZ-L5",
    "outputId": "7f78678e-36a3-4d8a-c849-6ab8fb90da93"
   },
   "outputs": [
    {
     "data": {
      "text/html": [
       "<div>\n",
       "<style scoped>\n",
       "    .dataframe tbody tr th:only-of-type {\n",
       "        vertical-align: middle;\n",
       "    }\n",
       "\n",
       "    .dataframe tbody tr th {\n",
       "        vertical-align: top;\n",
       "    }\n",
       "\n",
       "    .dataframe thead th {\n",
       "        text-align: right;\n",
       "    }\n",
       "</style>\n",
       "<table border=\"1\" class=\"dataframe\">\n",
       "  <thead>\n",
       "    <tr style=\"text-align: right;\">\n",
       "      <th></th>\n",
       "      <th>age</th>\n",
       "      <th>bmi</th>\n",
       "      <th>children</th>\n",
       "      <th>charges</th>\n",
       "      <th>sex_encoded</th>\n",
       "      <th>smoker_encoded</th>\n",
       "      <th>region_encoded</th>\n",
       "    </tr>\n",
       "  </thead>\n",
       "  <tbody>\n",
       "    <tr>\n",
       "      <th>count</th>\n",
       "      <td>1338.000000</td>\n",
       "      <td>1338.000000</td>\n",
       "      <td>1338.000000</td>\n",
       "      <td>1338.000000</td>\n",
       "      <td>1338.000000</td>\n",
       "      <td>1338.000000</td>\n",
       "      <td>1338.000000</td>\n",
       "    </tr>\n",
       "    <tr>\n",
       "      <th>mean</th>\n",
       "      <td>39.207025</td>\n",
       "      <td>30.663397</td>\n",
       "      <td>1.094918</td>\n",
       "      <td>0.193916</td>\n",
       "      <td>0.505232</td>\n",
       "      <td>0.204783</td>\n",
       "      <td>1.515695</td>\n",
       "    </tr>\n",
       "    <tr>\n",
       "      <th>std</th>\n",
       "      <td>14.049960</td>\n",
       "      <td>6.098187</td>\n",
       "      <td>1.205493</td>\n",
       "      <td>0.193301</td>\n",
       "      <td>0.500160</td>\n",
       "      <td>0.403694</td>\n",
       "      <td>1.104885</td>\n",
       "    </tr>\n",
       "    <tr>\n",
       "      <th>min</th>\n",
       "      <td>18.000000</td>\n",
       "      <td>15.960000</td>\n",
       "      <td>0.000000</td>\n",
       "      <td>0.000000</td>\n",
       "      <td>0.000000</td>\n",
       "      <td>0.000000</td>\n",
       "      <td>0.000000</td>\n",
       "    </tr>\n",
       "    <tr>\n",
       "      <th>25%</th>\n",
       "      <td>27.000000</td>\n",
       "      <td>26.296250</td>\n",
       "      <td>0.000000</td>\n",
       "      <td>0.057757</td>\n",
       "      <td>0.000000</td>\n",
       "      <td>0.000000</td>\n",
       "      <td>1.000000</td>\n",
       "    </tr>\n",
       "    <tr>\n",
       "      <th>50%</th>\n",
       "      <td>39.000000</td>\n",
       "      <td>30.400000</td>\n",
       "      <td>1.000000</td>\n",
       "      <td>0.131849</td>\n",
       "      <td>1.000000</td>\n",
       "      <td>0.000000</td>\n",
       "      <td>2.000000</td>\n",
       "    </tr>\n",
       "    <tr>\n",
       "      <th>75%</th>\n",
       "      <td>51.000000</td>\n",
       "      <td>34.693750</td>\n",
       "      <td>2.000000</td>\n",
       "      <td>0.247700</td>\n",
       "      <td>1.000000</td>\n",
       "      <td>0.000000</td>\n",
       "      <td>2.000000</td>\n",
       "    </tr>\n",
       "    <tr>\n",
       "      <th>max</th>\n",
       "      <td>64.000000</td>\n",
       "      <td>53.130000</td>\n",
       "      <td>5.000000</td>\n",
       "      <td>1.000000</td>\n",
       "      <td>1.000000</td>\n",
       "      <td>1.000000</td>\n",
       "      <td>3.000000</td>\n",
       "    </tr>\n",
       "  </tbody>\n",
       "</table>\n",
       "</div>"
      ],
      "text/plain": [
       "               age          bmi     children      charges  sex_encoded  \\\n",
       "count  1338.000000  1338.000000  1338.000000  1338.000000  1338.000000   \n",
       "mean     39.207025    30.663397     1.094918     0.193916     0.505232   \n",
       "std      14.049960     6.098187     1.205493     0.193301     0.500160   \n",
       "min      18.000000    15.960000     0.000000     0.000000     0.000000   \n",
       "25%      27.000000    26.296250     0.000000     0.057757     0.000000   \n",
       "50%      39.000000    30.400000     1.000000     0.131849     1.000000   \n",
       "75%      51.000000    34.693750     2.000000     0.247700     1.000000   \n",
       "max      64.000000    53.130000     5.000000     1.000000     1.000000   \n",
       "\n",
       "       smoker_encoded  region_encoded  \n",
       "count     1338.000000     1338.000000  \n",
       "mean         0.204783        1.515695  \n",
       "std          0.403694        1.104885  \n",
       "min          0.000000        0.000000  \n",
       "25%          0.000000        1.000000  \n",
       "50%          0.000000        2.000000  \n",
       "75%          0.000000        2.000000  \n",
       "max          1.000000        3.000000  "
      ]
     },
     "execution_count": 6,
     "metadata": {},
     "output_type": "execute_result"
    }
   ],
   "source": [
    "encoded_df.describe()"
   ]
  },
  {
   "cell_type": "markdown",
   "id": "d3f16e25",
   "metadata": {
    "id": "d3f16e25"
   },
   "source": [
    "## Baseline\n",
    "\n",
    "To construct the baseline, we are trying a set of possible machine learning algorithms (13 algorithms) using their default hyperparamters and we choose the one with the highest performance for comparison (baseline model)."
   ]
  },
  {
   "cell_type": "code",
   "execution_count": 7,
   "id": "f2045b67",
   "metadata": {
    "colab": {
     "base_uri": "https://localhost:8080/"
    },
    "id": "f2045b67",
    "outputId": "f735b1fa-a14e-4e09-bfd3-b5fb8beb4b65"
   },
   "outputs": [
    {
     "name": "stdout",
     "output_type": "stream",
     "text": [
      "Gaussian Process Regressor: MSE = 0.053851942825733315\n",
      "Lasso: MSE = 0.03684162436039741\n",
      "Elastic Net: MSE = 0.03523199880999577\n",
      "KNeighbors Regressor: MSE = 0.03457364428570947\n",
      "Support Vector Regressor: MSE = 0.024760147330902742\n",
      "Decision Tree: MSE = 0.011162190918510412\n",
      "Linear Regression: MSE = 0.009639011717667827\n",
      "Bayesian Ridge Regression: MSE = 0.00963893163160423\n",
      "Ridge Regression: MSE = 0.009638712759077921\n",
      "AdaBoost Regressor: MSE = 0.00721489690573472\n",
      "ExtraTrees Regressor: MSE = 0.006798107007085562\n",
      "Random Forest: MSE = 0.006286810393392109\n",
      "Gradient Boosting Regressor: MSE = 0.005728896258110425\n",
      "\n",
      "Baseline Model: Gradient Boosting Regressor with MSE = 0.005728896258110425 on training data\n",
      "\n",
      "Baseline Model: Gradient Boosting Regressor with MSE = 0.004826843572287087 on test data\n"
     ]
    }
   ],
   "source": [
    "X = encoded_df.drop('charges', axis = 1)\n",
    "y = encoded_df['charges']\n",
    "\n",
    "X_train, X_test, y_train, y_test = train_test_split(X, y, test_size = 0.2, random_state = 42)\n",
    "\n",
    "seed=42\n",
    "\n",
    "models = {\n",
    "    \"Linear Regression\": LinearRegression(),\n",
    "    \"Ridge Regression\": Ridge(random_state=seed),\n",
    "    \"Lasso\": Lasso(random_state=seed),\n",
    "    \"Elastic Net\": ElasticNet(random_state=seed),\n",
    "    \"Bayesian Ridge Regression\": BayesianRidge(),\n",
    "    \"Decision Tree\": DecisionTreeRegressor(random_state=seed),\n",
    "    \"Random Forest\": RandomForestRegressor(random_state=seed),\n",
    "    \"Gradient Boosting Regressor\": GradientBoostingRegressor(random_state=seed),\n",
    "    \"AdaBoost Regressor\": AdaBoostRegressor(random_state=seed),\n",
    "    \"ExtraTrees Regressor\": ExtraTreesRegressor(random_state=seed),\n",
    "    \"KNeighbors Regressor\": KNeighborsRegressor(),\n",
    "    \"Support Vector Regressor\": SVR(),\n",
    "    \"Gaussian Process Regressor\": GaussianProcessRegressor(random_state=seed)\n",
    "}\n",
    "\n",
    "results = {}\n",
    "predictions ={}\n",
    "\n",
    "for name, model in models.items():\n",
    "    model.fit(X_train, y_train)\n",
    "    y_pred = model.predict(X_test)\n",
    "    mse = -cross_val_score(model, X_train, y_train, cv=5, scoring='neg_mean_squared_error').mean()\n",
    "    results[name] = mse\n",
    "    predictions[name] = y_pred\n",
    "\n",
    "sorted_results = sorted(results.items(), key = lambda x: x[1], reverse = True)\n",
    "\n",
    "for name, mse in sorted_results:\n",
    "    print(f\"{name}: MSE = {mse}\")\n",
    "\n",
    "baseline_model_name = min(results, key=results.get)\n",
    "y_test_bl = y_test\n",
    "y_pred_bl = predictions[baseline_model_name]\n",
    "baseline_mse = results[baseline_model_name]\n",
    "baseline_mse_test = mean_squared_error(y_test_bl, y_pred_bl)\n",
    "\n",
    "print(f\"\\nBaseline Model: {baseline_model_name} with MSE = {baseline_mse} on training data\")\n",
    "print(f\"\\nBaseline Model: {baseline_model_name} with MSE = {baseline_mse_test} on test data\")"
   ]
  },
  {
   "cell_type": "markdown",
   "id": "eImXL6R-d9PV",
   "metadata": {
    "id": "eImXL6R-d9PV"
   },
   "source": [
    "## Studying the potential pipeline structure\n",
    "\n",
    "Based on the problem at hand, we study the potential pipeline structure,\n",
    "algorithms or feature transformers at each step, hyper-parameters ranges. We are using hyperOpt with the potential search space to beat the baseline."
   ]
  },
  {
   "cell_type": "code",
   "execution_count": 15,
   "id": "59ddae30",
   "metadata": {},
   "outputs": [
    {
     "name": "stdout",
     "output_type": "stream",
     "text": [
      "100%|████████████████████████████████████████████| 250/250 [04:08<00:00,  1.01trial/s, best loss: 0.005479697303820727]\n",
      "Best preprocessor: MaxAbsScaler\n",
      "Best model: RandomForestRegressor\n",
      "Best hyperparameters: {'bootstrap': True, 'max_depth': 5, 'max_features': None, 'min_samples_leaf': 6, 'min_samples_split': 10, 'n_estimators': 500}\n",
      "Test MSE: 0.004752671289642084\n"
     ]
    }
   ],
   "source": [
    "# Feature and target separation\n",
    "X = encoded_df.drop('charges', axis=1)  # Features\n",
    "y = encoded_df['charges']               # Target\n",
    "\n",
    "# Split the data\n",
    "X_train, X_test, y_train, y_test = train_test_split(X, y, test_size = 0.2, random_state = 42)\n",
    "\n",
    "seed=42\n",
    "\n",
    "# Defining a joint search space for hyperparameter optimization\n",
    "space = {\n",
    "    'regressor': hp.choice('regressor', [\n",
    "        {\n",
    "            'model': GradientBoostingRegressor,\n",
    "            'n_estimators': hp.choice('gb_n_estimators', [50, 100, 200, 300, 400, 500]),\n",
    "            'learning_rate': hp.uniform('gb_learning_rate', 0.01, 0.3),\n",
    "            'subsample': hp.uniform('gb_subsample', 0.5, 1.0),\n",
    "            'max_depth': hp.choice('gb_max_depth', [3, 5, 7, 9, None]),\n",
    "            'min_samples_split': hp.choice('gb_min_samples_split', [2, 4, 6, 8, 10]),\n",
    "            'min_samples_leaf': hp.choice('gb_min_samples_leaf', [1, 2, 4, 6, 8]),\n",
    "            'max_features': hp.choice('gb_max_features', ['sqrt', 'log2', None])\n",
    "        },\n",
    "        {\n",
    "            'model': RandomForestRegressor,\n",
    "            'n_estimators': hp.choice('rf_n_estimators', [50, 100, 200, 300, 400, 500]),\n",
    "            'max_depth': hp.choice('rf_max_depth', [5, 10, 15, 20, None]),\n",
    "            'min_samples_split': hp.choice('rf_min_samples_split', [2, 4, 6, 8, 10]),\n",
    "            'min_samples_leaf': hp.choice('rf_min_samples_leaf', [1, 2, 4, 6, 8]),\n",
    "            'max_features': hp.choice('rf_max_features', ['sqrt', 'log2', None]),\n",
    "            'bootstrap': hp.choice('rf_bootstrap', [True, False])\n",
    "        },\n",
    "        {\n",
    "            'model': LinearRegression,\n",
    "            'fit_intercept': hp.choice('lr_fit_intercept', [True, False])\n",
    "        },\n",
    "        {\n",
    "            'model': Lasso,\n",
    "            'alpha': hp.choice('alpha_lasso', [0.5, 1, 1.5, 2, 3, 4]),\n",
    "            'selection': hp.choice('selection_lasso', ['cyclic', 'random']),\n",
    "            'fit_intercept': hp.choice('fit_intercept_lasso', [True, False])\n",
    "        },\n",
    "        {\n",
    "            'model': Ridge,\n",
    "            'alpha': hp.choice('alpha_ridge', [0.5, 1, 1.5, 2, 3, 4]),\n",
    "            'fit_intercept': hp.choice('fit_intercept_ridge', [True, False])\n",
    "        },\n",
    "        {\n",
    "            'model': ElasticNet,\n",
    "            'alpha': hp.choice('alpha_elastic', [0.5, 1, 1.5, 2, 3, 4]),\n",
    "            'l1_ratio': hp.choice('l1_ratio_elastic', [0, 0.2, 0.4, 0.6, 0.8, 1]),\n",
    "            'selection': hp.choice('selection_elastic', ['cyclic', 'random']),\n",
    "            'fit_intercept': hp.choice('fit_intercept_elastic', [True, False])\n",
    "        },\n",
    "        {\n",
    "            'model': BayesianRidge,\n",
    "            'alpha_1': hp.choice('alpha_1', [0.000001, 0.000015, 0.000025, 0.00005, 0.0001]),\n",
    "            'alpha_2': hp.choice('alpha_2', [0.000001, 0.000015, 0.000025, 0.00005, 0.0001]),\n",
    "            'lambda_1': hp.choice('lambda_1', [0.000001, 0.000015, 0.000025, 0.00005, 0.0001]),\n",
    "            'lambda_2': hp.choice('lambda_2', [0.000001, 0.000015, 0.000025, 0.00005, 0.0001]),\n",
    "            'fit_intercept': hp.choice('fit_intercept_bayes', [True, False])\n",
    "        },\n",
    "        {\n",
    "            'model': AdaBoostRegressor,\n",
    "            'n_estimators': hp.choice('ab_n_estimators', [50, 100, 200, 300, 400, 500]),\n",
    "            'learning_rate': hp.uniform('ab_learning_rate', 0.01, 0.3),\n",
    "            'loss': hp.choice('ab_loss', ['linear', 'square', 'exponential'])\n",
    "        },\n",
    "        {\n",
    "            'model': ExtraTreesRegressor,\n",
    "            'n_estimators': hp.choice('etr_n_estimators', [50, 100, 200, 300, 400, 500]),\n",
    "            'max_depth': hp.choice('etr_max_depth', [3, 5, 7, 9, None]),\n",
    "            'min_samples_split': hp.choice('etr_min_samples_split', [2, 4, 6, 8, 10]),\n",
    "            'min_samples_leaf': hp.choice('etr_min_samples_leaf', [1, 2, 4, 6, 8]),\n",
    "            'max_features': hp.choice('etr_max_features', ['sqrt', 'log2', None])\n",
    "        },\n",
    "        {\n",
    "            'model': DecisionTreeRegressor,\n",
    "            'max_depth': hp.choice('dt_max_depth', [3, 5, 7, 9, None]),\n",
    "            'min_samples_split': hp.choice('dt_min_samples_split', [2, 4, 6, 8, 10]),\n",
    "            'min_samples_leaf': hp.choice('dt_min_samples_leaf', [1, 2, 4, 6, 8]),\n",
    "            'max_features': hp.choice('dt_max_features', ['sqrt', 'log2', None]),\n",
    "            'ccp_alpha': hp.uniform('dt_ccp_alpha', 0, 1),\n",
    "        },\n",
    "        {\n",
    "            'model': KNeighborsRegressor,\n",
    "            'n_neighbors': hp.choice('n_neighbors', [5, 10, 15, 20, 25, 30]),\n",
    "            'weights': hp.choice('knn_weights', ['uniform', 'distance'])\n",
    "        },\n",
    "        {\n",
    "            'model': GaussianProcessRegressor,\n",
    "            'alpha': hp.choice('gpr_alpha', [1e-10, 1.5e-10, 3e-10, 0.5e-10, 1e-9]),\n",
    "        },\n",
    "        {\n",
    "            'model': SVR,\n",
    "            'epsilon': hp.choice('svr_epsilon', [0.1, 0.3, 0.5, 0.8]),\n",
    "            'C': hp.choice('svr_c', [1, 2, 4, 6])\n",
    "        }\n",
    "    ]),\n",
    "\n",
    "    'preprocessor': hp.choice('preprocessor', [\n",
    "        {'standardscaler': StandardScaler},\n",
    "        {'minmaxscaler': MinMaxScaler},\n",
    "        {'maxabsscaler': MaxAbsScaler}\n",
    "    ])\n",
    "}\n",
    "\n",
    "# Defining a function to optimize\n",
    "def objective(params):\n",
    "    # Extracting the regressor and preprocessor from the parameters\n",
    "    regressor_params = params['regressor']\n",
    "    preprocessor_params = params['preprocessor']\n",
    "\n",
    "    preprocessor = list(preprocessor_params.values())[0]()\n",
    "    regressor_model = regressor_params['model']\n",
    "    regressor_args = {k: v for k, v in regressor_params.items() if k != 'model'}\n",
    "    regressor = regressor_model(**regressor_args)\n",
    "\n",
    "    # Creating a pipeline with the chosen regressor and preprocessor\n",
    "    pipeline = make_pipeline(preprocessor, regressor)\n",
    "    score = -cross_val_score(pipeline, X_train, y_train, cv=5, scoring='neg_mean_squared_error').mean()\n",
    "\n",
    "    return {'loss': score, 'status': STATUS_OK}\n",
    "\n",
    "# Optimizing hyperparameters\n",
    "trials = Trials()\n",
    "best_params = fmin(\n",
    "    fn = objective,\n",
    "    space = space,\n",
    "    algo = tpe.suggest,\n",
    "    max_evals = 250,\n",
    "    trials = trials\n",
    ")\n",
    "\n",
    "# Extracting the best parameters\n",
    "parameter_values = space_eval(space, best_params)\n",
    "best_preprocessor = list(parameter_values['preprocessor'].values())[0]\n",
    "best_regressor = parameter_values['regressor']['model']\n",
    "remove_model = parameter_values['regressor'].pop('model')\n",
    "best_param_values = parameter_values['regressor']\n",
    "\n",
    "# Train the best model on the entire training data\n",
    "best_pipeline = make_pipeline(best_preprocessor(), best_regressor(**best_param_values))\n",
    "best_pipeline.fit(X_train, y_train)\n",
    "\n",
    "# Evaluate the model on the test data\n",
    "y_pred_pl = best_pipeline.predict(X_test)\n",
    "test_mse = mean_squared_error(y_test, y_pred_pl)\n",
    "y_test_pl = y_test\n",
    "\n",
    "# Results\n",
    "print(f\"Best preprocessor: {best_preprocessor.__name__}\")\n",
    "print(f\"Best model: {best_regressor.__name__}\")\n",
    "print(f\"Best hyperparameters: {best_param_values}\")\n",
    "print(f\"Test MSE: {test_mse}\")"
   ]
  },
  {
   "cell_type": "markdown",
   "id": "fJ-Faa46eVVK",
   "metadata": {
    "id": "fJ-Faa46eVVK"
   },
   "source": [
    "## Monitoring the performance of the constructed pipeline\n",
    "\n",
    "Monitoring the the performance of the constructed pipeline from the previous step across different time budgets (number of iterations) and reporting the least time budget that you are able to outperform the baseline."
   ]
  },
  {
   "cell_type": "code",
   "execution_count": 16,
   "id": "dt2Yrq6ihiNM",
   "metadata": {
    "id": "dt2Yrq6ihiNM"
   },
   "outputs": [],
   "source": [
    "trial_numbers = []\n",
    "mses =  []\n",
    "for trial in trials:\n",
    "  trial_nr = trial['tid'] + 1\n",
    "  trial_numbers.append(trial_nr)\n",
    "  pipeline_mse_trial = trial['result']['loss']\n",
    "  mses.append(pipeline_mse_trial)"
   ]
  },
  {
   "cell_type": "code",
   "execution_count": 17,
   "id": "wgZKU4sIkHyF",
   "metadata": {
    "colab": {
     "base_uri": "https://localhost:8080/"
    },
    "id": "wgZKU4sIkHyF",
    "outputId": "70ab43d7-eeeb-4cac-c317-d1993a87a6fe"
   },
   "outputs": [
    {
     "name": "stdout",
     "output_type": "stream",
     "text": [
      "The least time budget that we are able to outperform the baseline: 31\n"
     ]
    }
   ],
   "source": [
    "least_time_budget = 1000000\n",
    "for trial in trials:\n",
    "  trial_nr = trial['tid']+1\n",
    "  pipeline_mse_trial = trial['result']['loss']\n",
    "  if (pipeline_mse_trial < baseline_mse):\n",
    "    least_time_budget = trial_nr\n",
    "    break\n",
    "\n",
    "print(f\"The least time budget that we are able to outperform the baseline: {least_time_budget}\")"
   ]
  },
  {
   "cell_type": "code",
   "execution_count": 19,
   "id": "c37pulLviAWk",
   "metadata": {
    "colab": {
     "base_uri": "https://localhost:8080/",
     "height": 445
    },
    "id": "c37pulLviAWk",
    "outputId": "5f36ff89-becf-49ef-acd2-9f28046cb36e"
   },
   "outputs": [
    {
     "data": {
      "image/png": "[encoded data removed]",
      "text/plain": [
       "<Figure size 864x360 with 1 Axes>"
      ]
     },
     "metadata": {
      "needs_background": "light"
     },
     "output_type": "display_data"
    }
   ],
   "source": [
    "fig = plt.figure(figsize=(12, 5))\n",
    "plt.plot(trial_numbers, mses, label = 'Pipeline performance')\n",
    "plt.plot(trial_numbers, [baseline_mse]*len(trial_numbers), label = 'Baseline MSE')\n",
    "plt.axvline(x = least_time_budget, color = 'green', alpha = 0.5, label = 'Least time budget')\n",
    "plt.ylim(0.0053, 0.0062)\n",
    "plt.legend(loc = 'upper right');"
   ]
  },
  {
   "cell_type": "code",
   "execution_count": 24,
   "id": "4owqDNoDlpEp",
   "metadata": {
    "colab": {
     "base_uri": "https://localhost:8080/",
     "height": 34
    },
    "id": "4owqDNoDlpEp",
    "outputId": "a307ec85-825c-40c9-9643-ccb7d968312e"
   },
   "outputs": [
    {
     "data": {
      "text/plain": [
       "<Figure size 432x288 with 0 Axes>"
      ]
     },
     "metadata": {},
     "output_type": "display_data"
    }
   ],
   "source": [
    "# Saving the figure\n",
    "plt.savefig(\"performance_rf.png\")"
   ]
  },
  {
   "cell_type": "markdown",
   "id": "sCf5rTEheu0T",
   "metadata": {
    "id": "sCf5rTEheu0T"
   },
   "source": [
    "## Statistical test\n",
    "\n",
    "Determining whether the difference in performance between the constructed pipeline and the baseline is statistically significant."
   ]
  },
  {
   "cell_type": "markdown",
   "id": "c570c8b3",
   "metadata": {},
   "source": [
    "### t-test"
   ]
  },
  {
   "cell_type": "code",
   "execution_count": 22,
   "id": "00bdc61a",
   "metadata": {},
   "outputs": [
    {
     "name": "stdout",
     "output_type": "stream",
     "text": [
      "MSE for Baseline: 0.004826843572287087\n",
      "MSE for Pipeline: 0.004752671289642084\n",
      "T-statistic: 0.669508600920684\n",
      "P-value: 0.5037496346999115\n",
      "There is no significant difference in mean squared errors.\n"
     ]
    }
   ],
   "source": [
    "pipeline_mse = test_mse\n",
    "\n",
    "# Perform paired t-test\n",
    "t_statistic, p_value = ttest_rel((y_test_bl - y_pred_bl) ** 2, (y_test_pl - y_pred_pl) ** 2)\n",
    "\n",
    "# Output results\n",
    "print(f\"MSE for Baseline: {baseline_mse_test}\")\n",
    "print(f\"MSE for Pipeline: {pipeline_mse}\")\n",
    "print(f\"T-statistic: {t_statistic}\")\n",
    "print(f\"P-value: {p_value}\")\n",
    "\n",
    "# Check if the difference is significant at a certain significance level (alpha = 0.05)\n",
    "if p_value < 0.05:\n",
    "    print(\"The difference in mean squared errors is statistically significant.\")\n",
    "else:\n",
    "    print(\"There is no significant difference in mean squared errors.\")"
   ]
  },
  {
   "cell_type": "markdown",
   "id": "4a0faaba",
   "metadata": {},
   "source": [
    "### Wilcoxon signed-rank test"
   ]
  },
  {
   "cell_type": "code",
   "execution_count": 23,
   "id": "1c394a0b",
   "metadata": {},
   "outputs": [
    {
     "name": "stdout",
     "output_type": "stream",
     "text": [
      "MSE for Baseline: 0.004826843572287087\n",
      "MSE for Pipeline: 0.004752671289642084\n",
      "Wilcoxon Statistic: 17097.0\n",
      "P-value: 0.4659416966234017\n",
      "There is no significant difference in absolute errors.\n"
     ]
    }
   ],
   "source": [
    "from scipy.stats import wilcoxon\n",
    "\n",
    "# Calculate absolute differences between predictions and true values\n",
    "diff_bl = abs(y_test_bl - y_pred_bl)\n",
    "diff_pipeline = abs(y_test_pl - y_pred_pl)\n",
    "\n",
    "# Perform Wilcoxon signed-rank test\n",
    "statistic, p_value = wilcoxon(diff_bl, diff_pipeline)\n",
    "\n",
    "print(f\"MSE for Baseline: {baseline_mse_test}\")\n",
    "print(f\"MSE for Pipeline: {pipeline_mse}\")\n",
    "\n",
    "# Output results\n",
    "print(f\"Wilcoxon Statistic: {statistic}\")\n",
    "print(f\"P-value: {p_value}\")\n",
    "\n",
    "# Check if the difference is significant at a certain significance level (alpha = 0.05)\n",
    "if p_value < 0.1:\n",
    "    print(\"The difference in absolute errors is statistically significant.\")\n",
    "else:\n",
    "    print(\"There is no significant difference in absolute errors.\")"
   ]
  }
 ],
 "metadata": {
  "colab": {
   "provenance": []
  },
  "kernelspec": {
   "display_name": "Python 3",
   "language": "python",
   "name": "python3"
  },
  "language_info": {
   "codemirror_mode": {
    "name": "ipython",
    "version": 3
   },
   "file_extension": ".py",
   "mimetype": "text/x-python",
   "name": "python",
   "nbconvert_exporter": "python",
   "pygments_lexer": "ipython3",
   "version": "3.8.8"
  }
 },
 "nbformat": 4,
 "nbformat_minor": 5
}
